{
 "cells": [
  {
   "cell_type": "code",
   "execution_count": 6,
   "metadata": {},
   "outputs": [],
   "source": [
    "import numpy as np\n",
    "import matplotlib.pyplot as plt\n",
    "\n",
    "\n",
    "class ChessBoard:\n",
    "    \"\"\"\n",
    "\n",
    "    This class is to create an 8 by 8 chess board and check if queens inside the board         attack each other\n",
    "\n",
    "    \"\"\"\n",
    "    white = [1,1,1]\n",
    "    blue = [0,0,1]\n",
    "    red = [1,0,0]\n",
    "    \n",
    "    def __init__(self):\n",
    "        # Create the board (grid)\n",
    "        self.grid = np.zeros([8,8,3])\n",
    "        # self.grid = np.random.rand(8,8,3)\n",
    "        for i in range(8):\n",
    "            for j in range(8):\n",
    "                if (i%2==0 and j%2==0) or (i%2==1 and j%2==1):\n",
    "                    self.grid[i,j] = ChessBoard.white\n",
    "    \n",
    "          \n",
    "    def render(self):\n",
    "        \"\"\" \n",
    "         This method is to render the board \n",
    "        \"\"\"\n",
    "        plt.imshow(self.grid)\n",
    "    \n",
    "    def add_red(self,row,col):\n",
    "        \"\"\"\n",
    "        This method is to add a red queen into a given coordinates on the board \n",
    "        then redners the board again with the queen in place\n",
    "        \"\"\"\n",
    "        self.grid[row,col] = ChessBoard.red\n",
    "        self.render()\n",
    "\n",
    "    def add_blue(self,row,col):\n",
    "        \"\"\"\n",
    "        This method is to add a blue queen into a given coordinates on the board \n",
    "        then redners the board again with the queen in place\n",
    "        \"\"\"\n",
    "        \n",
    "        self.grid[row,col] = ChessBoard.blue\n",
    "        self.render()\n",
    "\n",
    "    def check_if_under_attack(self,red_x,red_y,blue_x,blue_y):\n",
    "        \"\"\"\n",
    "        This method is to check if a given coordinates of a blue and red queen will             attack each other\n",
    "        \"\"\"\n",
    "        correct = True\n",
    "\n",
    "        if red_x == blue_x: \n",
    "            return True\n",
    "        elif red_y == blue_y:\n",
    "            return True\n",
    "        elif abs(red_x - red_y) == abs(blue_x - blue_y):\n",
    "            return True\n",
    "        else: \n",
    "            return False\n",
    "    "
   ]
  },
  {
   "cell_type": "code",
   "execution_count": 7,
   "metadata": {
    "tags": []
   },
   "outputs": [
    {
     "name": "stdout",
     "output_type": "stream",
     "text": [
      "All tests passed!!\n"
     ]
    },
    {
     "data": {
      "image/png": "[encoded data removed]",
      "text/plain": [
       "<Figure size 640x480 with 1 Axes>"
      ]
     },
     "metadata": {},
     "output_type": "display_data"
    }
   ],
   "source": [
    "\n",
    "board = ChessBoard()\n",
    "board.render()\n",
    "board.add_red(4,5)\n",
    "board.add_blue(4,6)\n",
    "assert board.check_if_under_attack(5,7,4,6) == True #Diagonal check\n",
    "assert board.check_if_under_attack(5,5,5,6) == True #Horizontal check\n",
    "assert board.check_if_under_attack(3,2,4,2) == True # Vertical check\n",
    "assert board.check_if_under_attack(0,0,5,7) == False #Not Under Attack \n",
    "assert board.check_if_under_attack(4,5,5,6) == True # vertically Under Attack \n",
    "print('All tests passed!!')"
   ]
  },
  {
   "cell_type": "code",
   "execution_count": null,
   "metadata": {},
   "outputs": [],
   "source": []
  }
 ],
 "metadata": {
  "kernelspec": {
   "display_name": "Python 3.10.8 64-bit",
   "language": "python",
   "name": "python3"
  },
  "language_info": {
   "codemirror_mode": {
    "name": "ipython",
    "version": 3
   },
   "file_extension": ".py",
   "mimetype": "text/x-python",
   "name": "python",
   "nbconvert_exporter": "python",
   "pygments_lexer": "ipython3",
   "version": "3.10.8"
  },
  "orig_nbformat": 2,
  "vscode": {
   "interpreter": {
    "hash": "97cc609b13305c559618ec78a438abc56230b9381f827f22d070313b9a1f3777"
   }
  }
 },
 "nbformat": 4,
 "nbformat_minor": 2
}
